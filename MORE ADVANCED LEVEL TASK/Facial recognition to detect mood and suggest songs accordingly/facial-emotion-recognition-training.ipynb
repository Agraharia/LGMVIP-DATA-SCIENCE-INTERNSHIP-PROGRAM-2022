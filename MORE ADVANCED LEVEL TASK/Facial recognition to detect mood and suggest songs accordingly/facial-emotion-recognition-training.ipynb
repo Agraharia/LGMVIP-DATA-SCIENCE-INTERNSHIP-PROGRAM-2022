{
 "cells": [
  {
   "cell_type": "markdown",
   "metadata": {},
   "source": [
    "\n",
    "# <span style='color:green;text-decoration: underline;'>LetsGrowMoreVIP - Data Science Internship - January 2022</span>\n",
    "\n",
    "## <span> TEST 10 -</span><span style='color:BLUE'>ML Facial recognition to detect mood and suggest songs accordingly</span>\n",
    "## <span> NAME -</span><span style='color:BLUE'> Akash Agrahari</span>\n",
    "\n",
    "## Training Model"
   ]
  },
  {
   "cell_type": "markdown",
   "metadata": {},
   "source": [
    "<div style=\"background-color: white;\"></div>"
   ]
  },
  {
   "cell_type": "code",
   "execution_count": null,
   "metadata": {
    "_cell_guid": "b1076dfc-b9ad-4769-8c92-a6c4dae69d19",
    "_uuid": "8f2839f25d086af736a60e9eeb907d3b93b6e0e5",
    "execution": {
     "iopub.execute_input": "2022-01-04T19:16:22.797326Z",
     "iopub.status.busy": "2022-01-04T19:16:22.796557Z",
     "iopub.status.idle": "2022-01-04T19:16:49.900801Z",
     "shell.execute_reply": "2022-01-04T19:16:49.899971Z",
     "shell.execute_reply.started": "2022-01-04T19:16:22.79727Z"
    }
   },
   "outputs": [],
   "source": [
    "# This Python 3 environment comes with many helpful analytics libraries installed\n",
    "# It is defined by the kaggle/python Docker image: https://github.com/kaggle/docker-python\n",
    "# For example, here's several helpful packages to load\n",
    "\n",
    "import numpy as np # linear algebra\n",
    "import pandas as pd # data processing, CSV file I/O (e.g. pd.read_csv)\n",
    "\n",
    "# Input data files are available in the read-only \"../input/\" directory\n",
    "# For example, running this (by clicking run or pressing Shift+Enter) will list all files under the input directory\n",
    "\n",
    "import os\n",
    "for dirname, _, filenames in os.walk('/kaggle/input'):\n",
    "    for filename in filenames:\n",
    "        print(os.path.join(dirname, filename))\n",
    "\n",
    "# You can write up to 20GB to the current directory (/kaggle/working/) that gets preserved as output when you create a version using \"Save & Run All\" \n",
    "# You can also write temporary files to /kaggle/temp/, but they won't be saved outside of the current session"
   ]
  },
  {
   "cell_type": "code",
   "execution_count": null,
   "metadata": {
    "execution": {
     "iopub.execute_input": "2022-01-04T19:16:49.902522Z",
     "iopub.status.busy": "2022-01-04T19:16:49.90228Z",
     "iopub.status.idle": "2022-01-04T19:16:49.906507Z",
     "shell.execute_reply": "2022-01-04T19:16:49.905953Z",
     "shell.execute_reply.started": "2022-01-04T19:16:49.902493Z"
    }
   },
   "outputs": [],
   "source": [
    "import numpy as np\n",
    "import pandas as pd\n",
    "import matplotlib.pyplot as plt\n",
    "import warnings\n",
    "warnings.filterwarnings('ignore')"
   ]
  },
  {
   "cell_type": "code",
   "execution_count": null,
   "metadata": {
    "execution": {
     "iopub.execute_input": "2022-01-04T19:16:49.907889Z",
     "iopub.status.busy": "2022-01-04T19:16:49.907681Z",
     "iopub.status.idle": "2022-01-04T19:16:49.92008Z",
     "shell.execute_reply": "2022-01-04T19:16:49.919425Z",
     "shell.execute_reply.started": "2022-01-04T19:16:49.907863Z"
    }
   },
   "outputs": [],
   "source": [
    "train_dir = '../input/fer2013/train'\n",
    "test_dir = '../input/fer2013/test'"
   ]
  },
  {
   "cell_type": "code",
   "execution_count": null,
   "metadata": {
    "execution": {
     "iopub.execute_input": "2022-01-04T19:17:05.303729Z",
     "iopub.status.busy": "2022-01-04T19:17:05.303182Z",
     "iopub.status.idle": "2022-01-04T19:17:11.643856Z",
     "shell.execute_reply": "2022-01-04T19:17:11.642842Z",
     "shell.execute_reply.started": "2022-01-04T19:17:05.303674Z"
    }
   },
   "outputs": [],
   "source": [
    "import tensorflow as tf\n",
    "from tensorflow.keras.preprocessing import image\n",
    "img = image.load_img('../input/fer2013/train/happy/Training_10181727.jpg', target_size=(48,48), color_mode='grayscale')\n",
    "plt.imshow(img)"
   ]
  },
  {
   "cell_type": "code",
   "execution_count": null,
   "metadata": {
    "execution": {
     "iopub.execute_input": "2022-01-04T19:17:12.526154Z",
     "iopub.status.busy": "2022-01-04T19:17:12.525819Z",
     "iopub.status.idle": "2022-01-04T19:17:16.68852Z",
     "shell.execute_reply": "2022-01-04T19:17:16.687499Z",
     "shell.execute_reply.started": "2022-01-04T19:17:12.526115Z"
    }
   },
   "outputs": [],
   "source": [
    "from tensorflow.keras.preprocessing.image import ImageDataGenerator\n",
    "train_gen = ImageDataGenerator(rotation_range=20,\n",
    "                              rescale=1./255,\n",
    "                              shear_range=0.1,\n",
    "                              zoom_range=0.2,\n",
    "                              horizontal_flip=True,\n",
    "                              width_shift_range=0.1,\n",
    "                              height_shift_range=0.1)\n",
    "\n",
    "training_data = train_gen.flow_from_directory(train_dir,\n",
    "                                             target_size=(224,224),\n",
    "                                             batch_size=64,\n",
    "                                             color_mode = \"grayscale\",\n",
    "                                             class_mode = \"categorical\")"
   ]
  },
  {
   "cell_type": "code",
   "execution_count": null,
   "metadata": {
    "execution": {
     "iopub.execute_input": "2022-01-04T19:17:16.690945Z",
     "iopub.status.busy": "2022-01-04T19:17:16.690586Z",
     "iopub.status.idle": "2022-01-04T19:17:17.88222Z",
     "shell.execute_reply": "2022-01-04T19:17:17.881283Z",
     "shell.execute_reply.started": "2022-01-04T19:17:16.690898Z"
    }
   },
   "outputs": [],
   "source": [
    "valid_gen = ImageDataGenerator(rescale=1./255)\n",
    "\n",
    "valid_data = valid_gen.flow_from_directory(test_dir,\n",
    "                                          target_size=(224,224),\n",
    "                                          batch_size=64,\n",
    "                                          color_mode='grayscale',\n",
    "                                          class_mode='categorical')"
   ]
  },
  {
   "cell_type": "code",
   "execution_count": null,
   "metadata": {
    "execution": {
     "iopub.execute_input": "2022-01-04T19:17:20.727657Z",
     "iopub.status.busy": "2022-01-04T19:17:20.726874Z",
     "iopub.status.idle": "2022-01-04T19:17:21.915072Z",
     "shell.execute_reply": "2022-01-04T19:17:21.914053Z",
     "shell.execute_reply.started": "2022-01-04T19:17:20.727618Z"
    }
   },
   "outputs": [],
   "source": [
    "from tensorflow.keras.applications.vgg19 import VGG19\n",
    "\n",
    "vgg = VGG19(weights='imagenet', include_top=False)\n",
    "\n",
    "for layer in vgg.layers:\n",
    "    layer.trainable = False"
   ]
  },
  {
   "cell_type": "code",
   "execution_count": null,
   "metadata": {
    "execution": {
     "iopub.execute_input": "2022-01-04T19:17:23.880857Z",
     "iopub.status.busy": "2022-01-04T19:17:23.88056Z",
     "iopub.status.idle": "2022-01-04T19:17:23.980634Z",
     "shell.execute_reply": "2022-01-04T19:17:23.979595Z",
     "shell.execute_reply.started": "2022-01-04T19:17:23.880827Z"
    }
   },
   "outputs": [],
   "source": [
    "from tensorflow.keras.layers import Conv2D, BatchNormalization, MaxPool2D, Dropout, Flatten, Dense, Input\n",
    "from tensorflow.keras.models import Model\n",
    "\n",
    "input = Input(shape=(224,224,1))\n",
    "\n",
    "conv = Conv2D(3, kernel_size=(3,3), padding='same')(input)\n",
    "\n",
    "vgg = vgg(conv)\n",
    "    \n",
    "x = Flatten()(vgg)\n",
    "\n",
    "pred = Dense(7, activation='softmax')(x)\n",
    "\n",
    "model = Model(inputs=input, outputs=pred)"
   ]
  },
  {
   "cell_type": "code",
   "execution_count": null,
   "metadata": {
    "execution": {
     "iopub.execute_input": "2022-01-04T19:17:25.62311Z",
     "iopub.status.busy": "2022-01-04T19:17:25.622766Z",
     "iopub.status.idle": "2022-01-04T19:17:25.630679Z",
     "shell.execute_reply": "2022-01-04T19:17:25.630051Z",
     "shell.execute_reply.started": "2022-01-04T19:17:25.623075Z"
    }
   },
   "outputs": [],
   "source": [
    "# from tensorflow.keras.layers import Conv2D, BatchNormalization, MaxPool2D, Dropout, Flatten, Dense\n",
    "\n",
    "# model = tf.keras.models.Sequential()\n",
    "\n",
    "# model.add(Conv2D(32, kernel_size=3, activation='relu', input_shape=(48, 48,1)))\n",
    "# model.add(Conv2D(32, kernel_size=3, activation='relu' ))\n",
    "# model.add(BatchNormalization())\n",
    "# model.add(MaxPool2D())\n",
    "# model.add(Dropout(0.2))\n",
    "\n",
    "# model.add(Conv2D(64, kernel_size=3, activation='relu'))\n",
    "# model.add(Conv2D(64, kernel_size=3, activation='relu' ))\n",
    "# model.add(BatchNormalization())\n",
    "# model.add(MaxPool2D())\n",
    "# model.add(Dropout(0.2))\n",
    "\n",
    "# model.add(Conv2D(128, kernel_size=3, activation='relu'))\n",
    "# model.add(Conv2D(128, kernel_size=3, activation='relu' ))\n",
    "# model.add(BatchNormalization())\n",
    "# model.add(MaxPool2D(pool_size=(3,3)))\n",
    "# model.add(Dropout(0.2))\n",
    "\n",
    "# model.add(Flatten())\n",
    "\n",
    "# model.add(Dense(128, activation='relu'))\n",
    "# model.add(Dropout(0.2))\n",
    "\n",
    "# model.add(Dense(256, activation='relu'))\n",
    "# model.add(Dropout(0.25))\n",
    "\n",
    "# model.add(Dense(7, activation='softmax'))\n",
    "\n",
    "# tf.keras.utils.plot_model(model, 'model.png')"
   ]
  },
  {
   "cell_type": "code",
   "execution_count": null,
   "metadata": {
    "execution": {
     "iopub.execute_input": "2022-01-04T19:17:26.444178Z",
     "iopub.status.busy": "2022-01-04T19:17:26.443664Z",
     "iopub.status.idle": "2022-01-04T19:17:26.453568Z",
     "shell.execute_reply": "2022-01-04T19:17:26.452633Z",
     "shell.execute_reply.started": "2022-01-04T19:17:26.444128Z"
    }
   },
   "outputs": [],
   "source": [
    "model.summary()"
   ]
  },
  {
   "cell_type": "code",
   "execution_count": null,
   "metadata": {
    "execution": {
     "iopub.execute_input": "2022-01-04T19:17:27.203403Z",
     "iopub.status.busy": "2022-01-04T19:17:27.202425Z",
     "iopub.status.idle": "2022-01-04T19:17:27.219711Z",
     "shell.execute_reply": "2022-01-04T19:17:27.219055Z",
     "shell.execute_reply.started": "2022-01-04T19:17:27.203329Z"
    }
   },
   "outputs": [],
   "source": [
    "from tensorflow.keras.optimizers import Adam\n",
    "opt = Adam(learning_rate=0.0001)\n",
    "\n",
    "model.compile(optimizer = opt,\n",
    "              loss='categorical_crossentropy',\n",
    "              metrics=['accuracy']\n",
    ")"
   ]
  },
  {
   "cell_type": "code",
   "execution_count": null,
   "metadata": {
    "execution": {
     "iopub.execute_input": "2022-01-04T19:17:29.07018Z",
     "iopub.status.busy": "2022-01-04T19:17:29.06944Z",
     "iopub.status.idle": "2022-01-04T19:18:54.569585Z",
     "shell.execute_reply": "2022-01-04T19:18:54.568407Z",
     "shell.execute_reply.started": "2022-01-04T19:17:29.070135Z"
    }
   },
   "outputs": [],
   "source": [
    "history = model.fit(training_data, epochs=100, validation_data = valid_data)"
   ]
  },
  {
   "cell_type": "code",
   "execution_count": null,
   "metadata": {
    "execution": {
     "iopub.execute_input": "2022-01-04T19:19:01.737681Z",
     "iopub.status.busy": "2022-01-04T19:19:01.736851Z",
     "iopub.status.idle": "2022-01-04T19:19:02.053253Z",
     "shell.execute_reply": "2022-01-04T19:19:02.052222Z",
     "shell.execute_reply.started": "2022-01-04T19:19:01.73764Z"
    }
   },
   "outputs": [],
   "source": [
    "fig , ax = plt.subplots(1,2)\n",
    "train_acc = history.history['accuracy']\n",
    "train_loss = history.history['loss']\n",
    "fig.set_size_inches(12,4)\n",
    "\n",
    "ax[0].plot(history.history['accuracy'])\n",
    "ax[0].plot(history.history['val_accuracy'])\n",
    "ax[0].set_title('Training Accuracy vs Validation Accuracy')\n",
    "ax[0].set_ylabel('Accuracy')\n",
    "ax[0].set_xlabel('Epoch')\n",
    "ax[0].legend(['Train', 'Validation'], loc='upper left')\n",
    "\n",
    "ax[1].plot(history.history['loss'])\n",
    "ax[1].plot(history.history['val_loss'])\n",
    "ax[1].set_title('Training Loss vs Validation Loss')\n",
    "ax[1].set_ylabel('Loss')\n",
    "ax[1].set_xlabel('Epoch')\n",
    "ax[1].legend(['Train', 'Validation'], loc='upper left')\n",
    "\n",
    "plt.show()"
   ]
  },
  {
   "cell_type": "code",
   "execution_count": null,
   "metadata": {
    "execution": {
     "iopub.execute_input": "2022-01-04T19:19:04.351819Z",
     "iopub.status.busy": "2022-01-04T19:19:04.351544Z"
    }
   },
   "outputs": [],
   "source": [
    "train_loss, train_acc = model.evaluate(training_data)\n",
    "test_loss, test_acc = model.evaluate(valid_data)"
   ]
  },
  {
   "cell_type": "code",
   "execution_count": null,
   "metadata": {},
   "outputs": [],
   "source": []
  },
  {
   "cell_type": "code",
   "execution_count": null,
   "metadata": {
    "execution": {
     "iopub.execute_input": "2022-01-04T18:48:08.893716Z",
     "iopub.status.busy": "2022-01-04T18:48:08.892862Z",
     "iopub.status.idle": "2022-01-04T18:48:09.098596Z",
     "shell.execute_reply": "2022-01-04T18:48:09.09779Z",
     "shell.execute_reply.started": "2022-01-04T18:48:08.893662Z"
    }
   },
   "outputs": [],
   "source": [
    "test_img = image.load_img('../input/fer2013/test/angry/PrivateTest_13278552.jpg',target_size = (224,224),color_mode = \"grayscale\")\n",
    "plt.imshow(test_img)"
   ]
  },
  {
   "cell_type": "code",
   "execution_count": null,
   "metadata": {
    "execution": {
     "iopub.execute_input": "2022-01-04T18:48:11.6121Z",
     "iopub.status.busy": "2022-01-04T18:48:11.611439Z",
     "iopub.status.idle": "2022-01-04T18:48:12.085498Z",
     "shell.execute_reply": "2022-01-04T18:48:12.084496Z",
     "shell.execute_reply.started": "2022-01-04T18:48:11.612064Z"
    }
   },
   "outputs": [],
   "source": [
    "label_dict = {0:'Angry',1:'Disgust',2:'Fear',3:'Happy',4:'Neutral',5:'Sad',6:'Surprise'}\n",
    "\n",
    "test_img = np.expand_dims(test_img,axis = 0)\n",
    "test_img = test_img.reshape(1,224,224,1)\n",
    "result = model.predict(test_img)\n",
    "result = list(result[0])\n",
    "\n",
    "img_index = result.index(max(result))\n",
    "print(label_dict[img_index])"
   ]
  },
  {
   "cell_type": "code",
   "execution_count": null,
   "metadata": {
    "execution": {
     "iopub.execute_input": "2022-01-04T19:16:05.660662Z",
     "iopub.status.busy": "2022-01-04T19:16:05.660203Z",
     "iopub.status.idle": "2022-01-04T19:16:05.754105Z",
     "shell.execute_reply": "2022-01-04T19:16:05.75309Z",
     "shell.execute_reply.started": "2022-01-04T19:16:05.66055Z"
    }
   },
   "outputs": [],
   "source": [
    "model.save('model_optimal.h5')"
   ]
  },
  {
   "cell_type": "markdown",
   "metadata": {},
   "source": [
    "## Loading Model"
   ]
  }
 ],
 "metadata": {
  "kernelspec": {
   "display_name": "Python 3 (ipykernel)",
   "language": "python",
   "name": "python3"
  },
  "language_info": {
   "codemirror_mode": {
    "name": "ipython",
    "version": 3
   },
   "file_extension": ".py",
   "mimetype": "text/x-python",
   "name": "python",
   "nbconvert_exporter": "python",
   "pygments_lexer": "ipython3",
   "version": "3.9.12"
  }
 },
 "nbformat": 4,
 "nbformat_minor": 4
}
